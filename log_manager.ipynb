{
 "cells": [
  {
   "cell_type": "code",
   "execution_count": 39,
   "metadata": {},
   "outputs": [
    {
     "name": "stdout",
     "output_type": "stream",
     "text": [
      "Overwriting log_manager.py\n"
     ]
    }
   ],
   "source": [
    "%%writefile log_manager.py\n",
    "import os, time\n",
    "\n",
    "\n",
    "DEFAULT_FORMAT = ['success_tag','info_type', 'info']\n",
    "\n",
    "class log_manager():\n",
    "    '''\n",
    "    logging tool\n",
    "    format like (default format, the first column is default to time):\n",
    "    time, SUCCESS, info_type , info;\n",
    "    time, ERROR, info_type, info;\n",
    "    save in txt file format\n",
    "    \n",
    "    Attributes:\n",
    "        logging_file (str): full path of logging file\n",
    "        logging_format (list): the items need to be logged\n",
    "    '''\n",
    "    def __init__(self, logging_file, logging_format=DEFAULT_FORMAT):\n",
    "        '''\n",
    "        Args:\n",
    "            logging_file (str): full path of logging file\n",
    "            logging_format (list): the items need to be logged\n",
    "        '''\n",
    "        self.logging_file = logging_file\n",
    "        self.logging_format = ['time'] + logging_format\n",
    "        \n",
    "        # init method\n",
    "        self.init_log()\n",
    "    def init_log(self):\n",
    "        '''\n",
    "        create log file\n",
    "        '''\n",
    "        if not os.path.exists(self.logging_file):\n",
    "            init_str = ','.join([i for i in self.logging_format])\n",
    "            with open(self.logging_file, 'a+') as f:\n",
    "                f.write('{};'.format(init_str))\n",
    "    def gen_time(self):\n",
    "        '''\n",
    "        Returns:\n",
    "            string, time\n",
    "        '''\n",
    "        localtime = time.localtime(time.time())\n",
    "        time_str = time.strftime('%Y-%m-%d %H:%M:%S', localtime)\n",
    "        return time_str\n",
    "    def write_log(self, info, success=True, info_type='notype', printout=True, add_to_list=None):\n",
    "        '''\n",
    "        this function is for default format\n",
    "        \n",
    "        Args:\n",
    "            info (str): the log\n",
    "            success (bool)\n",
    "            info_type (str): Defaults to 'notype'\n",
    "            printout (bool): whether to print the log. Default to True\n",
    "            add_to_list (list): Defaults to None\n",
    "        Returns:\n",
    "            dict: return the log dict\n",
    "        '''\n",
    "        logging = {}\n",
    "        \n",
    "        logging['time'] = self.gen_time()\n",
    "        if success:\n",
    "            logging['success_tag'] = 'SUCCESS'\n",
    "        else:\n",
    "            logging['success_tag'] = 'ERROR'\n",
    "        logging['info_type'] = info_type\n",
    "        logging['info'] = info\n",
    "        list_log = []\n",
    "        for i in self.logging_format:\n",
    "            list_log.append(logging[i])\n",
    "        log_text = ','.join(list_log)\n",
    "        with open(self.logging_file, 'a') as f:\n",
    "            f.write(log_text+';')\n",
    "        if printout:\n",
    "            print(log_text.replace(',','  '))\n",
    "        if add_to_list != None:\n",
    "            add_to_list.append(info.strip())\n",
    "            \n",
    "        return logging\n",
    "    \n",
    "    def get_info_list(self,info_wanted='info', **kwargs):\n",
    "        '''\n",
    "        gain a info list\n",
    "        specifical for default format\n",
    "        Args:\n",
    "            **kwargs: the selection condition, for example: success_tag='SUCCESS', info_type='notype'\n",
    "        Returns:\n",
    "            list, \n",
    "        '''\n",
    "        with open(self.logging_file, 'r') as f:\n",
    "            logging_content = f.read()\n",
    "        loggings = logging_content.strip().split(';')\n",
    "        list_results = []\n",
    "        for i in loggings[:-1]:\n",
    "            list_log = i.strip().split(',')\n",
    "\n",
    "            logging = {}\n",
    "\n",
    "            for k,v in zip(self.logging_format, list_log):\n",
    "                logging[k] = v.strip()\n",
    "            logging_match = True\n",
    "            for ki, vi in kwargs.items():\n",
    "                if logging[ki] != vi.strip():\n",
    "                    logging_match = False\n",
    "                    break\n",
    "            if logging_match:\n",
    "                list_results.append(logging.get(info_wanted))\n",
    "        print('the len of list: {}'.format(len(list_results)))\n",
    "        return list_results\n",
    "\n",
    "if __name__ == '__main__':\n",
    "    lm = log_manager('logtest.txt')\n",
    "    lm.write_log('test log')\n",
    "    lm.write_log('test Error', success=False)\n",
    "    success_list = lm.get_info_list(success_tag='SUCCESS')\n",
    "    print(success_list)\n",
    "    error_list = lm.get_info_list(success_tag='ERROR')\n",
    "    print(error_list)"
   ]
  },
  {
   "cell_type": "code",
   "execution_count": 33,
   "metadata": {},
   "outputs": [
    {
     "name": "stdout",
     "output_type": "stream",
     "text": [
      "the len of list: 1\n"
     ]
    },
    {
     "data": {
      "text/plain": [
       "['test log']"
      ]
     },
     "execution_count": 33,
     "metadata": {},
     "output_type": "execute_result"
    }
   ],
   "source": [
    "lm.get_info_list(success_tag='ERROR')"
   ]
  },
  {
   "cell_type": "code",
   "execution_count": null,
   "metadata": {},
   "outputs": [],
   "source": []
  }
 ],
 "metadata": {
  "kernelspec": {
   "display_name": "Python 3",
   "language": "python",
   "name": "python3"
  },
  "language_info": {
   "codemirror_mode": {
    "name": "ipython",
    "version": 3
   },
   "file_extension": ".py",
   "mimetype": "text/x-python",
   "name": "python",
   "nbconvert_exporter": "python",
   "pygments_lexer": "ipython3",
   "version": "3.7.6"
  }
 },
 "nbformat": 4,
 "nbformat_minor": 4
}
