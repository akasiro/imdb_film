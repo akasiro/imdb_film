{
 "cells": [
  {
   "cell_type": "code",
   "execution_count": 50,
   "metadata": {},
   "outputs": [],
   "source": [
    "# %%writefile imdb_spider.py\n",
    "import requests,re,os,sqlite3,sys,time,json\n",
    "from bs4 import BeautifulSoup\n",
    "import pandas as pd\n",
    "from imdb_config import *\n",
    "from urllib.parse import urljoin\n",
    "sys.path.append('/home/ubuntu/pyproject/scrapy_toolv2')\n",
    "from html_downloader import html_downloader\n",
    "\n",
    "class imdb_spider():\n",
    "    def __init__(self,dbpath=FILEPATH_DATABASE, hd=None):\n",
    "        self.conn = sqlite3.connect(dbpath)\n",
    "        self.cur = self.conn.cursor()\n",
    "        if hd:\n",
    "            self.hd = hd\n",
    "        else:\n",
    "            self.hd = html_downloader(world=True)\n",
    "        self.filmlist_used_ttid()\n",
    "        self.used_url_li_tt = self.used_url_gen(FILEPATH_USEDURL_LI_TT)\n",
    "    \n",
    "    def used_url_gen(self, filename):\n",
    "        with open(filename, 'r') as f:\n",
    "            tempstr = f.read()\n",
    "        return list(tempstr.split(','))\n",
    "    \n",
    "    def used_url_add(self, url, used_list, filename):\n",
    "        with open(filename, 'a+') as f:\n",
    "            f.write('{},'.format(url))\n",
    "        used_list.append(url)\n",
    "        print('SUCCESS: scrape {}'.format(url))\n",
    "        \n",
    "    def filmlist_used_ttid(self):\n",
    "        try:\n",
    "            tempdf = pd.read_sql('select ttid from {}'.format(TABLENAME_FILMLIST), self.conn)\n",
    "            self.used_filmlist = set(tempdf['ttid'].values.tolist())\n",
    "        except:\n",
    "            self.used_filmlist = set()\n",
    "        \n",
    "    def parse_li_tt(self, res_content):\n",
    "        list_film_id = []\n",
    "        soup = BeautifulSoup(res_content, 'html.parser')\n",
    "        item_content = soup.find_all('div', {'class':'lister-item-content'})\n",
    "        for i in item_content:\n",
    "            item_header = i.find('h3', {'class':'lister-item-header'})\n",
    "            film_url = item_header.a['href']\n",
    "            film_name = item_header.a.get_text()\n",
    "            item_genre = i.find('span', {'class':'genre'})\n",
    "            film_genre = item_genre.get_text()\n",
    "            film_year = i.find('span', {'class':'lister-item-year'}).get_text()\n",
    "        # modify\n",
    "            s_film_id = re.search(r'tt\\d+', film_url)\n",
    "            film_id = s_film_id.group()\n",
    "            film_genre = re.sub(r'\\s','',film_genre)\n",
    "            film_year = re.sub(r'\\D', '', film_year)\n",
    "        # save\n",
    "            temp_dict = {'ttid':film_id, 'name':film_name, 'year':film_year, 'genre':film_genre, 'url':film_url}\n",
    "            list_film_id.append(temp_dict)\n",
    "        \n",
    "        # next page\n",
    "        item_next_page = soup.find('a', {'class':'lister-page-next'})\n",
    "        if item_next_page:\n",
    "            np_url = item_next_page['href']\n",
    "        else:\n",
    "            np_url = False\n",
    "        return list_film_id,np_url\n",
    "    def save_li_tt(self, list_film_id, to_db=True, table_name=TABLENAME_FILMLIST):\n",
    "        dict_for_pandas = {'ttid':[], 'name':[], 'year':[], 'genre':[], 'url':[]}\n",
    "        for i in list_film_id:\n",
    "            if i['ttid'] in self.used_filmlist:\n",
    "                continue\n",
    "            for k in dict_for_pandas.keys():\n",
    "                dict_for_pandas[k].append(i.get(k))\n",
    "            self.used_filmlist.add(i['ttid'])\n",
    "        df_list_film = pd.DataFrame(dict_for_pandas)\n",
    "        \n",
    "        if to_db:\n",
    "            df_list_film.to_sql(name=table_name,con=self.conn,if_exists='append',index=False)\n",
    "        return df_list_film\n",
    "    def scrapy_li_tt(self, genre_url,teststop=-1):\n",
    "        if teststop ==0:\n",
    "            print('test end')\n",
    "            return\n",
    "        if teststop > 0:\n",
    "            teststop = teststop-1\n",
    "        if genre_url in self.used_url_li_tt:\n",
    "            genre_url = self.used_url_li_tt[-2]\n",
    "            print('ATTENTION: start from {}'.format(genre_url))\n",
    "        response = self.hd.request_proxy(genre_url)\n",
    "        if response:\n",
    "            list_film_id,np_url = self.parse_li_tt(response.content)\n",
    "            df_list_film = self.save_li_tt(list_film_id)\n",
    "            df_list_film.to_csv(os.path.join(PATH_FILMLIST_TEMP,'{}.csv'.format(int(time.time()))), index=False)\n",
    "            self.used_url_add(genre_url,self.used_url_li_tt,FILEPATH_USEDURL_LI_TT)\n",
    "            if np_url:\n",
    "                np_url = urljoin(domain_url, np_url)\n",
    "                time.sleep(1)\n",
    "                self.scrapy_li_tt(np_url, teststop=teststop)\n",
    "        else:\n",
    "            print('ERROR: scrapy interrupt!!!')\n",
    "    \n",
    "    def scrapy_li_tt_all(self):\n",
    "        for i in genre_url_list:\n",
    "            self.scrapy_li_tt(i)\n",
    "    \n",
    "    def parse_title(self, res_content):\n",
    "        soup = BeautifulSoup(res_content, 'html.parser')\n",
    "        script_data = soup.find('script', {'type':'application/ld+json'})\n",
    "        data_dict = self.parse_title_json(script_data.get_text())\n",
    "        return data_dict\n",
    "    def parse_title_json(self, json_str):\n",
    "        tmp_dict = json.loads(json_str)\n",
    "        return tmp_dict\n",
    "        \n",
    "\n",
    "            \n",
    "# if __name__ == \"__main__\":\n",
    "#     sp = imdb_spider()\n",
    "#     sp.scrapy_li_tt_all()"
   ]
  },
  {
   "cell_type": "code",
   "execution_count": 23,
   "metadata": {},
   "outputs": [],
   "source": [
    "hd = html_downloader(world=True)"
   ]
  },
  {
   "cell_type": "code",
   "execution_count": 10,
   "metadata": {},
   "outputs": [
    {
     "name": "stdout",
     "output_type": "stream",
     "text": [
      "ATTENTION: start from https://www.imdb.com/search/title/?title_type=feature&genres=action&start=451&explore=genres&ref_=adv_nxt\n",
      "SUCCESS: scrape https://www.imdb.com/search/title/?title_type=feature&genres=action&start=451&explore=genres&ref_=adv_nxt\n",
      "SUCCESS: scrape https://www.imdb.com/search/title/?title_type=feature&genres=action&start=501&explore=genres&ref_=adv_nxt\n",
      "test end\n"
     ]
    }
   ],
   "source": [
    "url = genre_url_list[0]\n",
    "t1 = imdb_spider(dbpath='test.db',hd=hd)\n",
    "t1.scrapy_li_tt(url,teststop=2)"
   ]
  },
  {
   "cell_type": "code",
   "execution_count": null,
   "metadata": {},
   "outputs": [],
   "source": [
    "print(len(t1.hd.ip_pool))"
   ]
  },
  {
   "cell_type": "code",
   "execution_count": 2,
   "metadata": {},
   "outputs": [],
   "source": [
    "conn = sqlite3.connect(FILEPATH_DATABASE)\n",
    "cur = conn.cursor()"
   ]
  },
  {
   "cell_type": "code",
   "execution_count": 26,
   "metadata": {},
   "outputs": [
    {
     "name": "stdout",
     "output_type": "stream",
     "text": [
      "(47785, 5)\n"
     ]
    }
   ],
   "source": [
    "df1 = pd.read_sql('select * from {}'.format(TABLENAME_FILMLIST), con = conn)\n",
    "print(df1.shape)"
   ]
  },
  {
   "cell_type": "code",
   "execution_count": 22,
   "metadata": {},
   "outputs": [
    {
     "data": {
      "text/html": [
       "<div>\n",
       "<style scoped>\n",
       "    .dataframe tbody tr th:only-of-type {\n",
       "        vertical-align: middle;\n",
       "    }\n",
       "\n",
       "    .dataframe tbody tr th {\n",
       "        vertical-align: top;\n",
       "    }\n",
       "\n",
       "    .dataframe thead th {\n",
       "        text-align: right;\n",
       "    }\n",
       "</style>\n",
       "<table border=\"1\" class=\"dataframe\">\n",
       "  <thead>\n",
       "    <tr style=\"text-align: right;\">\n",
       "      <th></th>\n",
       "      <th>ttid</th>\n",
       "      <th>name</th>\n",
       "      <th>year</th>\n",
       "      <th>genre</th>\n",
       "      <th>url</th>\n",
       "    </tr>\n",
       "  </thead>\n",
       "  <tbody>\n",
       "    <tr>\n",
       "      <th>37154</th>\n",
       "      <td>tt0487699</td>\n",
       "      <td>Mahiwagang kris</td>\n",
       "      <td>1975</td>\n",
       "      <td>Action</td>\n",
       "      <td>/title/tt0487699/?ref_=adv_li_tt</td>\n",
       "    </tr>\n",
       "  </tbody>\n",
       "</table>\n",
       "</div>"
      ],
      "text/plain": [
       "            ttid             name  year   genre  \\\n",
       "37154  tt0487699  Mahiwagang kris  1975  Action   \n",
       "\n",
       "                                    url  \n",
       "37154  /title/tt0487699/?ref_=adv_li_tt  "
      ]
     },
     "execution_count": 22,
     "metadata": {},
     "output_type": "execute_result"
    }
   ],
   "source": [
    "df1[df1.values=='Mahiwagang kris']"
   ]
  },
  {
   "cell_type": "code",
   "execution_count": 24,
   "metadata": {},
   "outputs": [],
   "source": [
    "title_url = 'https://www.imdb.com/title/tt0120737/?ref_=adv_li_tt'\n",
    "r2 = hd.request_proxy(title_url)"
   ]
  },
  {
   "cell_type": "code",
   "execution_count": 25,
   "metadata": {},
   "outputs": [
    {
     "data": {
      "text/plain": [
       "200"
      ]
     },
     "execution_count": 25,
     "metadata": {},
     "output_type": "execute_result"
    }
   ],
   "source": [
    "r2.status_code"
   ]
  },
  {
   "cell_type": "code",
   "execution_count": 51,
   "metadata": {},
   "outputs": [],
   "source": [
    "t2 = imdb_spider(dbpath='test.db',hd=hd)\n",
    "d2 = t2.parse_title(r2.content)"
   ]
  },
  {
   "cell_type": "code",
   "execution_count": 56,
   "metadata": {},
   "outputs": [
    {
     "name": "stdout",
     "output_type": "stream",
     "text": [
      "@context : http://schema.org\n",
      "@type : Movie\n",
      "url : /title/tt0120737/\n",
      "name : The Lord of the Rings: The Fellowship of the Ring\n",
      "image : https://m.media-amazon.com/images/M/MV5BN2EyZjM3NzUtNWUzMi00MTgxLWI0NTctMzY4M2VlOTdjZWRiXkEyXkFqcGdeQXVyNDUzOTQ5MjY@._V1_.jpg\n",
      "genre : ['Action', 'Adventure', 'Drama', 'Fantasy']\n",
      "contentRating : PG-13\n",
      "actor : [{'@type': 'Person', 'url': '/name/nm0000704/', 'name': 'Elijah Wood'}, {'@type': 'Person', 'url': '/name/nm0005212/', 'name': 'Ian McKellen'}, {'@type': 'Person', 'url': '/name/nm0089217/', 'name': 'Orlando Bloom'}, {'@type': 'Person', 'url': '/name/nm0000293/', 'name': 'Sean Bean'}]\n",
      "director : {'@type': 'Person', 'url': '/name/nm0001392/', 'name': 'Peter Jackson'}\n",
      "creator : [{'@type': 'Person', 'url': '/name/nm0866058/', 'name': 'J.R.R. Tolkien'}, {'@type': 'Person', 'url': '/name/nm0909638/', 'name': 'Fran Walsh'}, {'@type': 'Person', 'url': '/name/nm0101991/', 'name': 'Philippa Boyens'}, {'@type': 'Person', 'url': '/name/nm0001392/', 'name': 'Peter Jackson'}, {'@type': 'Organization', 'url': '/company/co0046718/'}, {'@type': 'Organization', 'url': '/company/co0046203/'}, {'@type': 'Organization', 'url': '/company/co0061706/'}]\n",
      "description : The Lord of the Rings: The Fellowship of the Ring is a movie starring Elijah Wood, Ian McKellen, and Orlando Bloom. A meek Hobbit from the Shire and eight companions set out on a journey to destroy the powerful One Ring and save...\n",
      "datePublished : 2001-12-19\n",
      "keywords : ring,quest,hobbit,elf,orc\n",
      "aggregateRating : {'@type': 'AggregateRating', 'ratingCount': 1607473, 'bestRating': '10.0', 'worstRating': '1.0', 'ratingValue': '8.8'}\n",
      "review : {'@type': 'Review', 'itemReviewed': {'@type': 'CreativeWork', 'url': '/title/tt0120737/'}, 'author': {'@type': 'Person', 'name': 'Rinaear'}, 'dateCreated': '2002-10-08', 'inLanguage': 'English', 'name': 'Embrace the magic', 'reviewBody': \"It is with no surprise that Peter Jackson's The Fellowship of the Ring film has received such mixed critics. Many viewers refer to it as being childish, boring and uninteresting. Seems to me that it is bound to the same fate of Tolkien's books, destined to be a target for the same type of misunderstandings that keep attacking this literary masterpiece many decades after it's first publication.\\n\\nHaving read the books several years ago, I went to see this `impossible' film when it came out with many doubts on my mind. I really liked it, but left the theater with as many doubts as I had before. Was it perfect? Well, maybe not, but what an achievement. After watching it a few times on DVD, and thinking about it for some time now, I find myself loving this film more and more. Let me tell you why...\\n\\nThe Lord of the Rings is a fairy-tale of myth and fantasy. Peter Jackson directed a film that was considered, for a very long time, impossible to make, and not only for technical reasons. The narrative roots are incredibly long and detailed, and the storyline is deeply connected with the creation of a fantastic continent from a time unknown called `Middle Earth'. It's author, Tolkien, dedicated a considerable part of his life developing this continent's background, it's mythology and origins, it's different kinds of people, cultures and languages, and therefore it's geographic references are determinant to the unfolding of the story of the One Ring.\\n\\nPeter Jackson went out to achieve the impossible and came out with a recreation of the original that is pure and true to the story in every detail. The first time the four hobbits meet a black rider on the road, for example, is absolutely faithful to the feeling of the book. The assault of the riders at Weathertop is another great example, and it captures that feeling of danger, density and atmosphere that are the main characteristics of the tale. Jackson also took some liberties with the story, and made some right choices along the way. If the so called `purists' may not approve the removal of Tom Bombadil altogether, it should be comprehensible that the travel from Hobbiton to Rivendel is a very long and detailed one and could easily make a movie on it's own. I felt more uneasy with how short the Council of Elrond was. In the book, the council is where the whole story of the rings is first explained, and many passages from the past ages of Middle Earth are unveiled. It is a fascinating moment of the story, that had to be shortened for obvious reasons. Still, after some consideration, I now agree with the options made by Peter Jackson, and think that the movie prologue narrated by Galadriel was the wisest choice. The magic is all there when Gandalf shuts his eyes the moment Frodo stands in the council and says `I will take the ring'. It is there at Moria's Gate, and at the fall of Boromir. It is a powerful film that doesn't fit the rhythm of the standard Hollywood action movie. It is a film that breeds, that takes time to unfold, it's tale branching in every direction.\\n\\nI could go on and on, talking about all the different elements that bring this film close to perfection, but I'll end saying that deep down, this is not about action, beards and big monsters. The greatest thing about this film, to me, is that it brought me back to a time when I was in love with a different world where everything was possible. Reading The Lord of the Rings night after night, I came to understand what this thing of `mankind' really was all about. The corruption of absolute power, the importance and value of friendship, the inevitability of growing up, the strength of hope... That this film could capture that magic, and be a new bearer to it's message of humanism, is a statement to it's greatness. Gandalf's words, that even the smallest person may change the course of the world, and have a part to play in the destiny of all, are immortal.\\n\\nIn the end, this is a wonderful film, but that doesn't mean you are going to like it. I cannot tell you what it is like to see this film if you don't know or love the book. But I hope it may plant a seed on your heart to discover a great world of fantasy, beauty and humanity. I believe Tolkien would have liked that.\"}\n",
      "duration : PT2H58M\n",
      "trailer : {'@type': 'VideoObject', 'name': 'The Lord of the Rings Trilogy on Blu-ray', 'embedUrl': '/video/imdb/vi2073101337', 'thumbnail': {'@type': 'ImageObject', 'contentUrl': 'https://m.media-amazon.com/images/M/MV5BODk1MzkwNTA4N15BMl5BanBnXkFtZTgwOTU1ODY3MjI@._V1_.jpg'}, 'thumbnailUrl': 'https://m.media-amazon.com/images/M/MV5BODk1MzkwNTA4N15BMl5BanBnXkFtZTgwOTU1ODY3MjI@._V1_.jpg', 'description': 'The trailer for The Lord of the Rings Trilogy on Blu-ray.', 'uploadDate': '2009-12-17T14:12:45Z'}\n"
     ]
    }
   ],
   "source": [
    "for k,v in d2.items():\n",
    "    print(k,\":\",v)"
   ]
  },
  {
   "cell_type": "code",
   "execution_count": null,
   "metadata": {},
   "outputs": [],
   "source": []
  }
 ],
 "metadata": {
  "kernelspec": {
   "display_name": "Python 3",
   "language": "python",
   "name": "python3"
  },
  "language_info": {
   "codemirror_mode": {
    "name": "ipython",
    "version": 3
   },
   "file_extension": ".py",
   "mimetype": "text/x-python",
   "name": "python",
   "nbconvert_exporter": "python",
   "pygments_lexer": "ipython3",
   "version": "3.7.3"
  }
 },
 "nbformat": 4,
 "nbformat_minor": 4
}
